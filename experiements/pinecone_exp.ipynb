{
 "cells": [
  {
   "cell_type": "code",
   "execution_count": 60,
   "metadata": {},
   "outputs": [],
   "source": [
    "from dotenv import load_dotenv\n",
    "load_dotenv() # to load openai_key\n",
    "\n",
    "import os\n"
   ]
  },
  {
   "cell_type": "code",
   "execution_count": 23,
   "metadata": {},
   "outputs": [],
   "source": [
    "#from langchain_openai import OpenAIEmbeddings\n",
    "from langchain_text_splitters import RecursiveCharacterTextSplitter\n"
   ]
  },
  {
   "cell_type": "code",
   "execution_count": 24,
   "metadata": {},
   "outputs": [],
   "source": [
    "from langchain_community.document_loaders.pdf import PyPDFDirectoryLoader\n",
    "\n",
    "#reading the doc\n",
    "def read_doc(dir):\n",
    "    file_loader = PyPDFDirectoryLoader(dir)\n",
    "    #file_loader = PdfReader(dir)\n",
    "    documetns = file_loader.load()\n",
    "    return documetns\n",
    "\n",
    "documents = read_doc(\"../document\")\n"
   ]
  },
  {
   "cell_type": "code",
   "execution_count": 25,
   "metadata": {},
   "outputs": [],
   "source": [
    "text_splitter = RecursiveCharacterTextSplitter(chunk_size=500,chunk_overlap=50)\n",
    "docs = text_splitter.split_documents(documents)\n",
    "\n",
    "#from langchain.embeddings.openai import OpenAIEmbeddings\n",
    "from langchain_openai import OpenAIEmbeddings\n",
    "embeddings = OpenAIEmbeddings()\n",
    "#embeddings = embeddings.generate_embeddings(docs)\n"
   ]
  },
  {
   "cell_type": "code",
   "execution_count": 26,
   "metadata": {},
   "outputs": [],
   "source": [
    "from langchain_pinecone import PineconeVectorStore\n",
    "index_name = \"vector-db-1\""
   ]
  },
  {
   "cell_type": "code",
   "execution_count": 27,
   "metadata": {},
   "outputs": [],
   "source": [
    "from langchain_pinecone import PineconeVectorStore\n",
    "\n",
    "docsearch = PineconeVectorStore.from_documents(docs, embeddings, index_name=index_name)\n"
   ]
  },
  {
   "cell_type": "code",
   "execution_count": 28,
   "metadata": {},
   "outputs": [
    {
     "data": {
      "text/plain": [
       "<langchain_pinecone.vectorstores.PineconeVectorStore at 0x2121841a260>"
      ]
     },
     "execution_count": 28,
     "metadata": {},
     "output_type": "execute_result"
    }
   ],
   "source": [
    "docsearch"
   ]
  },
  {
   "cell_type": "code",
   "execution_count": 29,
   "metadata": {},
   "outputs": [],
   "source": [
    "#cosine similariry retrive result from vector db\n",
    "\n",
    "def retrive_result(query,k=3):\n",
    "    matching_result = docsearch.similarity_search(query=query,k=k)\n",
    "    return matching_result"
   ]
  },
  {
   "cell_type": "code",
   "execution_count": 47,
   "metadata": {},
   "outputs": [],
   "source": [
    "#using retrievalqa\n",
    "from langchain.chains import RetrievalQA\n",
    "from langchain_openai import OpenAI\n",
    "\n",
    "\n",
    "llm = OpenAI(temperature=0.6)\n",
    "qa = RetrievalQA.from_chain_type(\n",
    "    llm=llm,\n",
    "    chain_type=\"stuff\",\n",
    "    retriever=docsearch.as_retriever(search_kwargs={\"k\": 3}),\n",
    ")\n",
    "\n"
   ]
  },
  {
   "cell_type": "code",
   "execution_count": 48,
   "metadata": {},
   "outputs": [
    {
     "name": "stdout",
     "output_type": "stream",
     "text": [
      " The agriculture credit target will be increased to ` 20 lakh crore.\n"
     ]
    }
   ],
   "source": [
    "print(qa.run(\"How much the agriculture target will be increased by how many crore?\"))"
   ]
  },
  {
   "cell_type": "code",
   "execution_count": 44,
   "metadata": {},
   "outputs": [],
   "source": [
    "#search answer in vectordb\n",
    "def find_answer_using_RetrievalQA(query):\n",
    "    similar_results = retrive_result(query=query)\n",
    "    print(similar_results)\n",
    "\n",
    "    result = qa.run(input_documents=similar_results,query=query)\n",
    "    return result\n"
   ]
  },
  {
   "cell_type": "code",
   "execution_count": 54,
   "metadata": {},
   "outputs": [
    {
     "name": "stdout",
     "output_type": "stream",
     "text": [
      "[Document(page_content=\"7 \\n \\n \\n farmers in contributing to the health of fellow citizens by growing these \\n‘Shree Anna’.   \\n22. Now to make India a global hub for ' Shree Anna' , the Indian Institute \\nof Millet Research, Hyderabad  will be supported as the Centre of Excellence \\nfor sharing best practices, research and technologies at the international \\nlevel.    \\nAgriculture Credit  \\n23. The agriculture credit target will be increased  \\nto ` 20 lakh crore with focus on animal husbandry, dairy and fisheries.\", metadata={'page': 10.0, 'source': '..\\\\document\\\\budget_speech.pdf'}), Document(page_content='year in a row by 33 per cent to ` 10 lakh crore, which would be 3.3 per cent \\nof GDP. This will be almost three times the outlay in 2019-20.   \\n45. This substantial increase in recent years is central to the \\ngovernment’s efforts to enhance growth potential and job creation, crowd-\\nin private investments, and provide a cushion against global headwinds. \\nEffective Capital Expenditure  \\n46. The direct capital investment by the Centre is complemented by the', metadata={'page': 14.0, 'source': '..\\\\document\\\\budget_speech.pdf'}), Document(page_content='Railways. This highest ever outlay is about 9 times the outlay made in 2013-\\n14.  \\nLogistics \\n51. One hundred critical transport infrastructure projects, for last and \\nfirst mile connectivity for ports, coal, steel, fertilizer, and food grains sectors \\nhave been identified. They will be taken up on priority with investment of \\n` 75,000 crore, including ` 15,000 crore from private sources. \\nRegional Connectivity \\n52. Fifty additional airports, heliports, water aerodromes and advance', metadata={'page': 15.0, 'source': '..\\\\document\\\\budget_speech.pdf'})]\n"
     ]
    }
   ],
   "source": [
    "ans = find_answer_using_RetrievalQA(query=\"How much the agriculture target will be increased by how many crore?\")"
   ]
  },
  {
   "cell_type": "code",
   "execution_count": 55,
   "metadata": {},
   "outputs": [
    {
     "data": {
      "text/plain": [
       "' The agriculture credit target will be increased to ` 20 lakh crore.'"
      ]
     },
     "execution_count": 55,
     "metadata": {},
     "output_type": "execute_result"
    }
   ],
   "source": [
    "ans"
   ]
  },
  {
   "cell_type": "code",
   "execution_count": 56,
   "metadata": {},
   "outputs": [],
   "source": [
    "#using retrievalqa\n",
    "from langchain.chains.question_answering import load_qa_chain\n",
    "from langchain_openai import OpenAI\n",
    "\n",
    "\n",
    "llm = OpenAI(temperature=0.6)\n",
    "qa_1 = load_qa_chain(llm=llm,chain_type=\"stuff\")\n",
    "\n"
   ]
  },
  {
   "cell_type": "code",
   "execution_count": 57,
   "metadata": {},
   "outputs": [],
   "source": [
    "#search answer in vectordb\n",
    "def find_answer(query):\n",
    "    similar_results = retrive_result(query=query)\n",
    "    print(similar_results)\n",
    "\n",
    "    result = qa_1.run(input_documents=similar_results,question=query)\n",
    "    return result\n"
   ]
  },
  {
   "cell_type": "code",
   "execution_count": 58,
   "metadata": {},
   "outputs": [
    {
     "name": "stdout",
     "output_type": "stream",
     "text": [
      "[Document(page_content=\"7 \\n \\n \\n farmers in contributing to the health of fellow citizens by growing these \\n‘Shree Anna’.   \\n22. Now to make India a global hub for ' Shree Anna' , the Indian Institute \\nof Millet Research, Hyderabad  will be supported as the Centre of Excellence \\nfor sharing best practices, research and technologies at the international \\nlevel.    \\nAgriculture Credit  \\n23. The agriculture credit target will be increased  \\nto ` 20 lakh crore with focus on animal husbandry, dairy and fisheries.\", metadata={'page': 10.0, 'source': '..\\\\document\\\\budget_speech.pdf'}), Document(page_content='year in a row by 33 per cent to ` 10 lakh crore, which would be 3.3 per cent \\nof GDP. This will be almost three times the outlay in 2019-20.   \\n45. This substantial increase in recent years is central to the \\ngovernment’s efforts to enhance growth potential and job creation, crowd-\\nin private investments, and provide a cushion against global headwinds. \\nEffective Capital Expenditure  \\n46. The direct capital investment by the Centre is complemented by the', metadata={'page': 14.0, 'source': '..\\\\document\\\\budget_speech.pdf'}), Document(page_content='Railways. This highest ever outlay is about 9 times the outlay made in 2013-\\n14.  \\nLogistics \\n51. One hundred critical transport infrastructure projects, for last and \\nfirst mile connectivity for ports, coal, steel, fertilizer, and food grains sectors \\nhave been identified. They will be taken up on priority with investment of \\n` 75,000 crore, including ` 15,000 crore from private sources. \\nRegional Connectivity \\n52. Fifty additional airports, heliports, water aerodromes and advance', metadata={'page': 15.0, 'source': '..\\\\document\\\\budget_speech.pdf'})]\n"
     ]
    }
   ],
   "source": [
    "ans = find_answer(\"How much the agriculture target will be increased by how many crore?\")"
   ]
  },
  {
   "cell_type": "code",
   "execution_count": 59,
   "metadata": {},
   "outputs": [
    {
     "data": {
      "text/plain": [
       "' The agriculture credit target will be increased to ` 20 lakh crore.'"
      ]
     },
     "execution_count": 59,
     "metadata": {},
     "output_type": "execute_result"
    }
   ],
   "source": [
    "ans"
   ]
  },
  {
   "cell_type": "code",
   "execution_count": null,
   "metadata": {},
   "outputs": [],
   "source": [
    "#could have used RetrievalQAWithSourcesChain or load_qa_with_sources_chain"
   ]
  }
 ],
 "metadata": {
  "kernelspec": {
   "display_name": "Python 3",
   "language": "python",
   "name": "python3"
  },
  "language_info": {
   "codemirror_mode": {
    "name": "ipython",
    "version": 3
   },
   "file_extension": ".py",
   "mimetype": "text/x-python",
   "name": "python",
   "nbconvert_exporter": "python",
   "pygments_lexer": "ipython3",
   "version": "3.10.0"
  }
 },
 "nbformat": 4,
 "nbformat_minor": 2
}
